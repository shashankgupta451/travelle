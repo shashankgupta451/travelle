{
  "nbformat": 4,
  "nbformat_minor": 0,
  "metadata": {
    "colab": {
      "name": "main.ipynb",
      "version": "0.3.2",
      "provenance": [],
      "collapsed_sections": [],
      "include_colab_link": true
    },
    "kernelspec": {
      "name": "python3",
      "display_name": "Python 3"
    },
    "accelerator": "GPU"
  },
  "cells": [
    {
      "cell_type": "markdown",
      "metadata": {
        "id": "view-in-github",
        "colab_type": "text"
      },
      "source": [
        "<a href=\"https://colab.research.google.com/github/shashankgupta451/travelle/blob/master/main.ipynb\" target=\"_parent\"><img src=\"https://colab.research.google.com/assets/colab-badge.svg\" alt=\"Open In Colab\"/></a>"
      ]
    },
    {
      "metadata": {
        "id": "b2yi6gX6jSNW",
        "colab_type": "code",
        "outputId": "0da89756-b221-4d1f-fa4e-17a653aa7406",
        "colab": {
          "base_uri": "https://localhost:8080/",
          "height": 34
        }
      },
      "cell_type": "code",
      "source": [
        "cd /content/SRCNN-Tensorflow/"
      ],
      "execution_count": 0,
      "outputs": [
        {
          "output_type": "stream",
          "text": [
            "/content/SRCNN-Tensorflow\n"
          ],
          "name": "stdout"
        }
      ]
    },
    {
      "metadata": {
        "id": "iBCYewUaj33K",
        "colab_type": "code",
        "colab": {}
      },
      "cell_type": "code",
      "source": [
        "from model import SRCNN\n",
        "from utils import input_setup\n",
        "\n",
        "import numpy as np\n",
        "import tensorflow as tf\n",
        "\n",
        "import pprint\n",
        "import os\n",
        "\n",
        "flags = tf.app.flags\n",
        "flags.DEFINE_integer(\"epoch\", 15000, \"Number of epoch [15000]\")\n",
        "flags.DEFINE_integer(\"batch_size\", 128, \"The size of batch images [128]\")\n",
        "flags.DEFINE_integer(\"image_size\", 33, \"The size of image to use [33]\")\n",
        "flags.DEFINE_integer(\"label_size\", 21, \"The size of label to produce [21]\")\n",
        "flags.DEFINE_float(\"learning_rate\", 1e-4, \"The learning rate of gradient descent algorithm [1e-4]\")\n",
        "flags.DEFINE_integer(\"c_dim\", 1, \"Dimension of image color. [1]\")\n",
        "flags.DEFINE_integer(\"scale\", 3, \"The size of scale factor for preprocessing input image [3]\")\n",
        "flags.DEFINE_integer(\"stride\", 14, \"The size of stride to apply input image [14]\")\n",
        "flags.DEFINE_string(\"checkpoint_dir\", \"checkpoint\", \"Name of checkpoint directory [checkpoint]\")\n",
        "flags.DEFINE_string(\"sample_dir\", \"sample\", \"Name of sample directory [sample]\")\n",
        "flags.DEFINE_boolean(\"is_train\", True, \"True for training, False for testing [True]\")\n",
        "FLAGS = flags.FLAGS\n",
        "\n",
        "pp = pprint.PrettyPrinter()\n",
        "\n",
        "def main(_):\n",
        "  pp.pprint(flags.FLAGS.__flags)\n",
        "\n",
        "  if not os.path.exists(FLAGS.checkpoint_dir):\n",
        "    os.makedirs(FLAGS.checkpoint_dir)\n",
        "  if not os.path.exists(FLAGS.sample_dir):\n",
        "    os.makedirs(FLAGS.sample_dir)\n",
        "\n",
        "  with tf.Session() as sess:\n",
        "    srcnn = SRCNN(sess, \n",
        "                  image_size=FLAGS.image_size, \n",
        "                  label_size=FLAGS.label_size, \n",
        "                  batch_size=FLAGS.batch_size,\n",
        "                  c_dim=FLAGS.c_dim, \n",
        "                  checkpoint_dir=FLAGS.checkpoint_dir,\n",
        "                  sample_dir=FLAGS.sample_dir)\n",
        "\n",
        "    srcnn.train(FLAGS)\n",
        "    \n",
        "if __name__ == '__main__':\n",
        "  tf.app.run()\n"
      ],
      "execution_count": 0,
      "outputs": []
    },
    {
      "metadata": {
        "id": "vRol5MwjkYEK",
        "colab_type": "code",
        "outputId": "049f1bda-f53e-436b-c105-fd8db17f34ee",
        "colab": {
          "base_uri": "https://localhost:8080/",
          "height": 34
        }
      },
      "cell_type": "code",
      "source": [
        "%run \"main.py --is_train False --stride 21\""
      ],
      "execution_count": 0,
      "outputs": [
        {
          "output_type": "stream",
          "text": [
            "ERROR:root:File `'main.py --is_train False --stride 21.py'` not found.\n"
          ],
          "name": "stderr"
        }
      ]
    }
  ]
}